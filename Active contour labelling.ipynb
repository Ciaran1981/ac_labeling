{
 "cells": [
  {
   "cell_type": "code",
   "execution_count": null,
   "id": "cefc343b",
   "metadata": {},
   "outputs": [],
   "source": [
    "import geopandas as gpd\n",
    "from shapely import wkt\n",
    "import os\n",
    "from glob import glob\n",
    "from src import (batch_wms_download, write_vrt, image_thresh,\n",
    "                 raster2array, do_ac, ms_snake)\n",
    "from tqdm import tqdm"
   ]
  },
  {
   "cell_type": "markdown",
   "id": "1d125be2",
   "metadata": {},
   "source": [
    "Sort geometry...."
   ]
  },
  {
   "cell_type": "code",
   "execution_count": null,
   "id": "e6a7c035",
   "metadata": {},
   "outputs": [],
   "source": [
    "maindir = os.getcwd()\n",
    "# The csv you shared with me\n",
    "geomcsv = ('ErosionMapping.csv')\n",
    "\n",
    "gdf  = gpd.read_file(geomcsv)\n",
    "# apply as geometry just so we can use if required \n",
    "# btw just moving the column to geometry doesn't work - format must be not right\n",
    "gdf['geometry'] = gdf.wkt_geom.apply(wkt.loads)\n",
    "#dump\n",
    "gdf = gdf.drop(columns='wkt_geom')"
   ]
  },
  {
   "cell_type": "code",
   "execution_count": null,
   "id": "f6ed1871",
   "metadata": {},
   "outputs": [],
   "source": [
    "# subset of interest\n",
    "monad = gdf[gdf['Region'] == 'Monadhliath']\n",
    "\n",
    "wms = ('http://www.getmapping.com/wms/scotland/'\n",
    "       'scotland.wmsx?login=jhilogin02&password=j54apd')\n",
    "\n",
    "layer = 'ScotlandBest250mm'"
   ]
  },
  {
   "cell_type": "markdown",
   "id": "3ba2850e",
   "metadata": {},
   "source": [
    "Download"
   ]
  },
  {
   "cell_type": "code",
   "execution_count": null,
   "id": "9cd95bab",
   "metadata": {},
   "outputs": [],
   "source": [
    "outdir = ('tiles')\n",
    "\n",
    "os.mkdir(outdir)\n",
    "\n",
    "batch_wms_download(monad, wms, layer, outdir, attribute='id',\n",
    "                       espg='27700')"
   ]
  },
  {
   "cell_type": "markdown",
   "id": "2c4b35ac",
   "metadata": {},
   "source": [
    "Make a virtual raster should you want to view in qgis as one"
   ]
  },
  {
   "cell_type": "code",
   "execution_count": null,
   "id": "5534819e",
   "metadata": {},
   "outputs": [],
   "source": [
    "vrt = os.path.join(maindir, os.path.join('monad.vrt'))\n",
    "\n",
    "infiles = glob(os.path.join(outdir, '*.tif'))\n",
    "infiles.sort()\n",
    "\n",
    "write_vrt(infiles, vrt)"
   ]
  },
  {
   "cell_type": "markdown",
   "id": "e6663e93",
   "metadata": {},
   "source": [
    "Make a list of output strings for later ac shapefiles & rasters"
   ]
  },
  {
   "cell_type": "code",
   "execution_count": null,
   "id": "695adfdc",
   "metadata": {},
   "outputs": [],
   "source": [
    "acdir = os.path.join(maindir, 'actiles')\n",
    "os.mkdir(acdir)\n",
    "# haha ugly\n",
    "ootlist = [os.path.join(acdir, os.path.split(i)[1])[:-4]+'_ac.shp' for\n",
    "           i in infiles]"
   ]
  },
  {
   "cell_type": "markdown",
   "id": "94a22723",
   "metadata": {},
   "source": [
    "For each file I choose a threshold manualy with napari \n",
    "\n",
    "This doesn't return anything just to mess about with thresholds as it will differ per image. Tried algorithmic solutions but better off by eye in this case...."
   ]
  },
  {
   "cell_type": "code",
   "execution_count": null,
   "id": "5cf246f7",
   "metadata": {},
   "outputs": [],
   "source": [
    "img = raster2array(infiles[0])\n",
    "\n",
    "image_thresh(img)"
   ]
  },
  {
   "cell_type": "markdown",
   "id": "e6fa05f3",
   "metadata": {},
   "source": [
    "Having \"established\" what the img thesholds are for each image in the list, run the process. This will save the aforementioned shapefiles of the AC results.\n",
    "\n",
    "The plot won't update in jupyter which is annoying so just look at it in qgis.\n"
   ]
  },
  {
   "cell_type": "code",
   "execution_count": null,
   "id": "5951c9dd",
   "metadata": {},
   "outputs": [],
   "source": [
    "threshes = [70, 55, 50, 55, 55, 55]\n",
    "\n",
    "for f, i, t in tqdm(zip(infiles, ootlist, threshes)):\n",
    "    \n",
    "    do_ac(f, i, iterations=10, thresh=t,\n",
    "          smoothing=1, lambda1=1, lambda2=1, area_thresh=4, vis=False)"
   ]
  },
  {
   "cell_type": "markdown",
   "id": "d9fb6f21",
   "metadata": {},
   "source": [
    "Alternatively you could draw them roughly then use ac to alter them per polygon\n",
    " though care must be taken that the polygon or respective neigbourhood around it\n",
    " (ie bufs 1 & 2) doesn't fall of edge of image (see args in lib or src)\n",
    " If there are overlapping polygons beforehand best disolve \n",
    " then single > multipart them "
   ]
  },
  {
   "cell_type": "code",
   "execution_count": null,
   "id": "343e81ab",
   "metadata": {},
   "outputs": [],
   "source": [
    "inshp = ('my/erosion.shp') # replace with your own path/file\n",
    "outshp = ('my/acedit.shp') # replace with your own path/file\n",
    "\n",
    "ms_snake(inshp, vrt, outshp,  band=2, buf1=0, buf2=0, \n",
    "           algo=\"ACWE\", nodata_value=0,\n",
    "           iterations=50,  smoothing=1, lambda1=1, lambda2=1,\n",
    "           threshold='auto', balloon=-1)\n"
   ]
  }
 ],
 "metadata": {
  "kernelspec": {
   "display_name": "Python 3 (ipykernel)",
   "language": "python",
   "name": "python3"
  },
  "language_info": {
   "codemirror_mode": {
    "name": "ipython",
    "version": 3
   },
   "file_extension": ".py",
   "mimetype": "text/x-python",
   "name": "python",
   "nbconvert_exporter": "python",
   "pygments_lexer": "ipython3",
   "version": "3.10.10"
  }
 },
 "nbformat": 4,
 "nbformat_minor": 5
}
